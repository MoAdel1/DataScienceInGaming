{
 "cells": [
  {
   "cell_type": "markdown",
   "metadata": {},
   "source": [
    "## Roadmap\n",
    "- load the raw data\n",
    "- perform basic analysis\n",
    "- define customer churn problem\n",
    "- features extraction/engineering\n",
    "- model training (Neural network with automatic tuning for hyperparameters using **auto_design** module)\n",
    "- performance validation\n",
    "- next steps"
   ]
  },
  {
   "cell_type": "code",
   "execution_count": 1,
   "metadata": {},
   "outputs": [
    {
     "name": "stderr",
     "output_type": "stream",
     "text": [
      "Using TensorFlow backend.\n"
     ]
    }
   ],
   "source": [
    "# code imports\n",
    "import pickle\n",
    "import numpy as np\n",
    "import pandas as pd\n",
    "from matplotlib import pyplot\n",
    "from sklearn.metrics import f1_score\n",
    "from auto_design.utils import design\n",
    "from sklearn.model_selection import train_test_split"
   ]
  },
  {
   "cell_type": "code",
   "execution_count": 2,
   "metadata": {},
   "outputs": [
    {
     "name": "stdout",
     "output_type": "stream",
     "text": [
      "number of players = 25957\n",
      "number of records = 153929\n"
     ]
    },
    {
     "data": {
      "text/html": [
       "<div>\n",
       "<style scoped>\n",
       "    .dataframe tbody tr th:only-of-type {\n",
       "        vertical-align: middle;\n",
       "    }\n",
       "\n",
       "    .dataframe tbody tr th {\n",
       "        vertical-align: top;\n",
       "    }\n",
       "\n",
       "    .dataframe thead th {\n",
       "        text-align: right;\n",
       "    }\n",
       "</style>\n",
       "<table border=\"1\" class=\"dataframe\">\n",
       "  <thead>\n",
       "    <tr style=\"text-align: right;\">\n",
       "      <th></th>\n",
       "      <th>device</th>\n",
       "      <th>score</th>\n",
       "      <th>time</th>\n",
       "    </tr>\n",
       "  </thead>\n",
       "  <tbody>\n",
       "    <tr>\n",
       "      <th>0</th>\n",
       "      <td>352610060979119</td>\n",
       "      <td>7</td>\n",
       "      <td>1421157320</td>\n",
       "    </tr>\n",
       "    <tr>\n",
       "      <th>1</th>\n",
       "      <td>352610060979119</td>\n",
       "      <td>0</td>\n",
       "      <td>1421157288</td>\n",
       "    </tr>\n",
       "    <tr>\n",
       "      <th>2</th>\n",
       "      <td>352610060979119</td>\n",
       "      <td>6</td>\n",
       "      <td>1421157344</td>\n",
       "    </tr>\n",
       "    <tr>\n",
       "      <th>3</th>\n",
       "      <td>99000072289368</td>\n",
       "      <td>106</td>\n",
       "      <td>1421163166</td>\n",
       "    </tr>\n",
       "    <tr>\n",
       "      <th>4</th>\n",
       "      <td>357470044931974</td>\n",
       "      <td>278</td>\n",
       "      <td>1421163783</td>\n",
       "    </tr>\n",
       "  </tbody>\n",
       "</table>\n",
       "</div>"
      ],
      "text/plain": [
       "            device  score        time\n",
       "0  352610060979119      7  1421157320\n",
       "1  352610060979119      0  1421157288\n",
       "2  352610060979119      6  1421157344\n",
       "3   99000072289368    106  1421163166\n",
       "4  357470044931974    278  1421163783"
      ]
     },
     "execution_count": 2,
     "metadata": {},
     "output_type": "execute_result"
    }
   ],
   "source": [
    "# load the data and perform basic analysis\n",
    "raw_data = pd.read_csv('./resources/raw_data.csv')\n",
    "print('number of players = {}'.format(len(set(raw_data.device))))\n",
    "print('number of records = {}'.format(len(raw_data)))\n",
    "raw_data.head(5)"
   ]
  },
  {
   "cell_type": "markdown",
   "metadata": {},
   "source": [
    "#### Data frame explanation: \n",
    "\n",
    "- device: unique ID per each player \n",
    "- score: score that the player got during this session \n",
    "- time: the number of seconds passed since epoch. For Unix system, January 1, 1970, 00:00:00 at UTC is epoch (the point where time begins). "
   ]
  },
  {
   "cell_type": "markdown",
   "metadata": {},
   "source": [
    "#### Customer churn definition \n",
    "\n",
    "In this demo customer churn is defined as the probability of a **new** player leaving the game for an (x) amount of days after playing for a (y) amount of days. The observation period shall be referred to from now on as (op) while the churn period shall be referred to as (cp). While the player may start playing the game again after the (cp), given a large enough (cp) it is highly unlikely especially in a casual game. Also, a proper (cp) can be determined by performing simple analysis on the available game logs. For more details about the definition of observation period, churn period and new players churn please refer back to the [research article](https://doi.org/10.1371/journal.pone.0180735)    "
   ]
  },
  {
   "cell_type": "code",
   "execution_count": 3,
   "metadata": {},
   "outputs": [],
   "source": [
    "# define function used to construct features\n",
    "def construct_data(raw_data, op, cp, exist=False):\n",
    "    '''\n",
    "    Parameters\n",
    "    ----------\n",
    "    raw_data : DataFrame\n",
    "        the raw data to construct training features from\n",
    "    op : int\n",
    "        the length of opservation period in days\n",
    "    cp : int\n",
    "        the length of churn period in days\n",
    "\n",
    "    Returns\n",
    "    -------\n",
    "    output : DataFrame\n",
    "        a dataframe for the training data along with it's output.\n",
    "    '''\n",
    "    if exist:\n",
    "        with open('./resources/construct_data.p', 'rb') as file:\n",
    "            output = pickle.load(file)\n",
    "            return output\n",
    "    output_list = list()\n",
    "    # convert op/cp into seconds\n",
    "    op = int(op*24*60*60) \n",
    "    cp = int(cp*24*60*60)\n",
    "    # clean the raw_data frame\n",
    "    raw_data.dropna(inplace=True)\n",
    "    # extract players list\n",
    "    players = list(set(raw_data['device']))\n",
    "    # build features vector for each player\n",
    "    for player in players:\n",
    "        # extract player logs and calculate relative time\n",
    "        log = raw_data[raw_data['device']==player]\n",
    "        log = log.sort_values(by='time', ascending=True, ignore_index=True) # sort by time\n",
    "        t0 = log['time'].iloc[0]\n",
    "        log['time'] = log['time'].apply(lambda x: x-t0) # calculate relative time\n",
    "        log_op = log[log['time']<=op]\n",
    "        # build features\n",
    "        active_duration = log_op['time'].iloc[-1]\n",
    "        play_count = len(log_op)\n",
    "        best_score = log_op['score'].max()\n",
    "        worst_score = log_op['score'].min()\n",
    "        mean_score = log_op['score'].mean()\n",
    "        best_score_index = (1/play_count)*log_op['score'].argmax()\n",
    "        best_sub_mean_count = (best_score-mean_score)/play_count if play_count!=0 else np.nan\n",
    "        best_sub_mean_ratio = (best_score-mean_score)/mean_score if mean_score!=0 else np.nan\n",
    "        sd_score = np.std(log_op['score'])\n",
    "        # build target\n",
    "        target = int(not(len(log[(log['time']>op) & (log['time']<=(op+cp))])>0)) # 1 for churn 0 for not\n",
    "        # construct feature vector\n",
    "        output_list.append({'active_duration':active_duration,\n",
    "                            'play_count':play_count,\n",
    "                            'best_score':best_score,\n",
    "                            'worst_score':worst_score,\n",
    "                            'mean_score':mean_score,\n",
    "                            'best_score_index':best_score_index,\n",
    "                            'best_sub_mean_count':best_sub_mean_count,\n",
    "                            'best_sub_mean_ratio':best_sub_mean_ratio,\n",
    "                            'sd_score':sd_score,\n",
    "                            'target':target})\n",
    "    # construct return dataframe\n",
    "    output = pd.DataFrame(data=output_list)\n",
    "    output.dropna(inplace=True)\n",
    "    output.reset_index(inplace=True, drop=True)\n",
    "    # save copy in resources to save time\n",
    "    with open('./resources/construct_data.p', 'wb') as file:\n",
    "        pickle.dump(output, file)\n",
    "    # final return\n",
    "    return output"
   ]
  },
  {
   "cell_type": "code",
   "execution_count": 4,
   "metadata": {},
   "outputs": [
    {
     "data": {
      "text/html": [
       "<div>\n",
       "<style scoped>\n",
       "    .dataframe tbody tr th:only-of-type {\n",
       "        vertical-align: middle;\n",
       "    }\n",
       "\n",
       "    .dataframe tbody tr th {\n",
       "        vertical-align: top;\n",
       "    }\n",
       "\n",
       "    .dataframe thead th {\n",
       "        text-align: right;\n",
       "    }\n",
       "</style>\n",
       "<table border=\"1\" class=\"dataframe\">\n",
       "  <thead>\n",
       "    <tr style=\"text-align: right;\">\n",
       "      <th></th>\n",
       "      <th>active_duration</th>\n",
       "      <th>play_count</th>\n",
       "      <th>best_score</th>\n",
       "      <th>worst_score</th>\n",
       "      <th>mean_score</th>\n",
       "      <th>best_score_index</th>\n",
       "      <th>best_sub_mean_count</th>\n",
       "      <th>best_sub_mean_ratio</th>\n",
       "      <th>sd_score</th>\n",
       "      <th>target</th>\n",
       "    </tr>\n",
       "  </thead>\n",
       "  <tbody>\n",
       "    <tr>\n",
       "      <th>count</th>\n",
       "      <td>25653.000000</td>\n",
       "      <td>25653.000000</td>\n",
       "      <td>25653.000000</td>\n",
       "      <td>25653.000000</td>\n",
       "      <td>25653.000000</td>\n",
       "      <td>25653.000000</td>\n",
       "      <td>25653.000000</td>\n",
       "      <td>25653.000000</td>\n",
       "      <td>25653.000000</td>\n",
       "      <td>25653.000000</td>\n",
       "    </tr>\n",
       "    <tr>\n",
       "      <th>mean</th>\n",
       "      <td>6816.589950</td>\n",
       "      <td>3.450630</td>\n",
       "      <td>326.534362</td>\n",
       "      <td>173.294780</td>\n",
       "      <td>234.480301</td>\n",
       "      <td>0.199692</td>\n",
       "      <td>23.317557</td>\n",
       "      <td>0.535754</td>\n",
       "      <td>60.687720</td>\n",
       "      <td>0.835419</td>\n",
       "    </tr>\n",
       "    <tr>\n",
       "      <th>std</th>\n",
       "      <td>19388.204449</td>\n",
       "      <td>7.857417</td>\n",
       "      <td>664.225656</td>\n",
       "      <td>455.410912</td>\n",
       "      <td>492.531553</td>\n",
       "      <td>0.282005</td>\n",
       "      <td>87.854676</td>\n",
       "      <td>0.832059</td>\n",
       "      <td>201.129590</td>\n",
       "      <td>0.370809</td>\n",
       "    </tr>\n",
       "    <tr>\n",
       "      <th>min</th>\n",
       "      <td>0.000000</td>\n",
       "      <td>1.000000</td>\n",
       "      <td>1.000000</td>\n",
       "      <td>0.000000</td>\n",
       "      <td>0.333333</td>\n",
       "      <td>0.000000</td>\n",
       "      <td>0.000000</td>\n",
       "      <td>0.000000</td>\n",
       "      <td>0.000000</td>\n",
       "      <td>0.000000</td>\n",
       "    </tr>\n",
       "    <tr>\n",
       "      <th>25%</th>\n",
       "      <td>0.000000</td>\n",
       "      <td>1.000000</td>\n",
       "      <td>42.000000</td>\n",
       "      <td>7.000000</td>\n",
       "      <td>30.500000</td>\n",
       "      <td>0.000000</td>\n",
       "      <td>0.000000</td>\n",
       "      <td>0.000000</td>\n",
       "      <td>0.000000</td>\n",
       "      <td>1.000000</td>\n",
       "    </tr>\n",
       "    <tr>\n",
       "      <th>50%</th>\n",
       "      <td>14.000000</td>\n",
       "      <td>2.000000</td>\n",
       "      <td>124.000000</td>\n",
       "      <td>35.000000</td>\n",
       "      <td>83.000000</td>\n",
       "      <td>0.000000</td>\n",
       "      <td>0.444444</td>\n",
       "      <td>0.028571</td>\n",
       "      <td>1.000000</td>\n",
       "      <td>1.000000</td>\n",
       "    </tr>\n",
       "    <tr>\n",
       "      <th>75%</th>\n",
       "      <td>224.000000</td>\n",
       "      <td>3.000000</td>\n",
       "      <td>322.000000</td>\n",
       "      <td>138.000000</td>\n",
       "      <td>220.500000</td>\n",
       "      <td>0.500000</td>\n",
       "      <td>15.750000</td>\n",
       "      <td>0.863636</td>\n",
       "      <td>48.256260</td>\n",
       "      <td>1.000000</td>\n",
       "    </tr>\n",
       "    <tr>\n",
       "      <th>max</th>\n",
       "      <td>86399.000000</td>\n",
       "      <td>545.000000</td>\n",
       "      <td>20964.000000</td>\n",
       "      <td>20964.000000</td>\n",
       "      <td>20964.000000</td>\n",
       "      <td>0.989362</td>\n",
       "      <td>4077.555556</td>\n",
       "      <td>16.625216</td>\n",
       "      <td>8649.801706</td>\n",
       "      <td>1.000000</td>\n",
       "    </tr>\n",
       "  </tbody>\n",
       "</table>\n",
       "</div>"
      ],
      "text/plain": [
       "       active_duration    play_count    best_score   worst_score  \\\n",
       "count     25653.000000  25653.000000  25653.000000  25653.000000   \n",
       "mean       6816.589950      3.450630    326.534362    173.294780   \n",
       "std       19388.204449      7.857417    664.225656    455.410912   \n",
       "min           0.000000      1.000000      1.000000      0.000000   \n",
       "25%           0.000000      1.000000     42.000000      7.000000   \n",
       "50%          14.000000      2.000000    124.000000     35.000000   \n",
       "75%         224.000000      3.000000    322.000000    138.000000   \n",
       "max       86399.000000    545.000000  20964.000000  20964.000000   \n",
       "\n",
       "         mean_score  best_score_index  best_sub_mean_count  \\\n",
       "count  25653.000000      25653.000000         25653.000000   \n",
       "mean     234.480301          0.199692            23.317557   \n",
       "std      492.531553          0.282005            87.854676   \n",
       "min        0.333333          0.000000             0.000000   \n",
       "25%       30.500000          0.000000             0.000000   \n",
       "50%       83.000000          0.000000             0.444444   \n",
       "75%      220.500000          0.500000            15.750000   \n",
       "max    20964.000000          0.989362          4077.555556   \n",
       "\n",
       "       best_sub_mean_ratio      sd_score        target  \n",
       "count         25653.000000  25653.000000  25653.000000  \n",
       "mean              0.535754     60.687720      0.835419  \n",
       "std               0.832059    201.129590      0.370809  \n",
       "min               0.000000      0.000000      0.000000  \n",
       "25%               0.000000      0.000000      1.000000  \n",
       "50%               0.028571      1.000000      1.000000  \n",
       "75%               0.863636     48.256260      1.000000  \n",
       "max              16.625216   8649.801706      1.000000  "
      ]
     },
     "execution_count": 4,
     "metadata": {},
     "output_type": "execute_result"
    }
   ],
   "source": [
    "# construct the features for the raw_data that will be used during the training\n",
    "op = 1 \n",
    "cp = 15\n",
    "output = construct_data(raw_data, op, cp, exist=True) # exist flag loads a chached version of the features\n",
    "\n",
    "output.describe()"
   ]
  },
  {
   "cell_type": "markdown",
   "metadata": {},
   "source": [
    "We have 9 features to predict one target. It should be noted that the data is biased towards class 1 (churn). Hence as a performance metric F1 score instead of accuracy is used. As for loss function [Binary focal loss function](https://towardsdatascience.com/demystifying-focal-loss-i-a-more-focused-version-of-cross-entropy-loss-f49e4b044213) is used. It should also be noted that other measurements could have been taken such as changing the data sample.  \n",
    "\n",
    "Since we have 25653 training records. Using deep neural networks will be avoided as well, as most probably it will overfit. However, with more training data Deep feed forward nets, 1D CNN or LSTM may be tested out on the raw (op) vector instead of trying to manually create the features. \n",
    "\n",
    "For the actual training of the model **auto_design** is used, which is a custom-made module that builds full machine learning pipelines covering: \n",
    "\n",
    "1. Data pre-processing \n",
    "\n",
    "2. Feature engineering using autoencoders \n",
    "\n",
    "3. Hyperparameters tuning using genetic algorithms \n",
    "\n",
    "For now, this module is restricted to feed forward neural nets but nothing stops it from expanding to any other machine learning models and feature engineering stages. "
   ]
  },
  {
   "cell_type": "code",
   "execution_count": 5,
   "metadata": {},
   "outputs": [],
   "source": [
    "# prepare the training data\n",
    "features = ['active_duration', 'play_count', 'best_score',\n",
    "            'worst_score', 'mean_score', 'best_score_index',\n",
    "            'best_sub_mean_count', 'best_sub_mean_ratio',\n",
    "            'sd_score']\n",
    "x, y = np.array(output[features]).astype(np.float64), np.array(output[['target']]).astype(np.float64)\n",
    "x_train, x_test, y_train, y_test = train_test_split(x, y, test_size=int(len(x)*0.1))"
   ]
  },
  {
   "cell_type": "code",
   "execution_count": 6,
   "metadata": {},
   "outputs": [
    {
     "name": "stdout",
     "output_type": "stream",
     "text": [
      "4617/4617 [==============================] - 0s 67us/step\n",
      "4617/4617 [==============================] - 0s 49us/step\n",
      "4617/4617 [==============================] - 0s 62us/step\n",
      "4617/4617 [==============================] - 0s 64us/step\n",
      "4617/4617 [==============================] - 0s 46us/step\n",
      "gen\tnevals\tavg    \tmin    \tmax    \n",
      "0  \t5     \t1.63844\t1.50418\t1.76735\n",
      "4617/4617 [==============================] - 0s 58us/step\n",
      "4617/4617 [==============================] - 0s 40us/step\n",
      "1  \t2     \t1.59   \t1.50418\t1.7673 \n",
      "4617/4617 [==============================] - 0s 60us/step\n",
      "4617/4617 [==============================] - 0s 44us/step\n",
      "2  \t2     \t1.50804\t1.49776\t1.52511\n",
      "4617/4617 [==============================] - 0s 44us/step\n",
      "4617/4617 [==============================] - 0s 50us/step\n",
      "4617/4617 [==============================] - 0s 43us/step\n",
      "4617/4617 [==============================] - 0s 46us/step\n",
      "3  \t4     \t1.50264\t1.49794\t1.5071 \n",
      "4617/4617 [==============================] - 0s 47us/step\n",
      "4  \t1     \t1.5016 \t1.49794\t1.50418\n",
      "5  \t0     \t1.50115\t1.49794\t1.50418\n"
     ]
    }
   ],
   "source": [
    "# specify problem type\n",
    "problem_type = 'classification'\n",
    "# specify the size of population and number of generations\n",
    "size_population = 5\n",
    "number_generations = 5\n",
    "# design ML pipeline using auto_design module\n",
    "ml_design, log = design(x_train,\n",
    "                        y_train,\n",
    "                        problem_type, \n",
    "                        size_population, \n",
    "                        number_generations)"
   ]
  },
  {
   "cell_type": "code",
   "execution_count": 7,
   "metadata": {},
   "outputs": [
    {
     "data": {
      "text/plain": [
       "<matplotlib.legend.Legend at 0x7f38172f7e10>"
      ]
     },
     "execution_count": 7,
     "metadata": {},
     "output_type": "execute_result"
    },
    {
     "data": {
      "image/png": "[encoded data removed]",
      "text/plain": [
       "<Figure size 1440x1280 with 1 Axes>"
      ]
     },
     "metadata": {},
     "output_type": "display_data"
    }
   ],
   "source": [
    "# visualize loss curves for best found model\n",
    "history = ml_design['model'].history\n",
    "pyplot.figure(figsize=(18, 16), dpi= 80, facecolor='w')\n",
    "pyplot.subplot(211)\n",
    "pyplot.title('Loss')\n",
    "pyplot.plot(history.history['loss'], label='train')\n",
    "pyplot.plot(history.history['val_loss'], label='validation')\n",
    "pyplot.legend() "
   ]
  },
  {
   "cell_type": "markdown",
   "metadata": {},
   "source": [
    "After a certain number of epochs, the validation loss may start to increase again this is where the early stopping condition is used."
   ]
  },
  {
   "cell_type": "code",
   "execution_count": 8,
   "metadata": {},
   "outputs": [],
   "source": [
    "# generate the predection for the test sample\n",
    "scaler = ml_design['scaler']\n",
    "encoder = ml_design['encoder']\n",
    "model = ml_design['model']\n",
    "x_test = scaler.transform(x_test)\n",
    "x_test = x_test if encoder==None else encoder.predict(x_test)\n",
    "y_pred = model.predict(x_test)"
   ]
  },
  {
   "cell_type": "code",
   "execution_count": 9,
   "metadata": {},
   "outputs": [
    {
     "name": "stdout",
     "output_type": "stream",
     "text": [
      "F1 score for class 0 = 0.479\n",
      "F1 score for class 1 = 0.898\n"
     ]
    }
   ],
   "source": [
    "# calculate the F1 score\n",
    "f1_score_0 = f1_score(y_test, y_pred.round(), pos_label=0, average='binary')\n",
    "print('F1 score for class 0 = {}'.format(round(f1_score_0, 3)))\n",
    "f1_score_1 = f1_score(y_test, y_pred.round(), pos_label=1, average='binary')\n",
    "print('F1 score for class 1 = {}'.format(round(f1_score_1, 3)))"
   ]
  },
  {
   "cell_type": "markdown",
   "metadata": {},
   "source": [
    "#### Next steps \n",
    "\n",
    "From the F1 score it is clear that class 1 is performing well, however class 0 is underperforming. With that in mind we are more interested for class 1 as it would mean a customer is about to churn. \n",
    "\n",
    "The performance can be improved by: \n",
    "\n",
    "1. Adding more training records for class 0 \n",
    "2. Expanding auto_design models and training sample size \n",
    "3. Increasing the population size and generations number \n",
    "4. Training on GPU (local/cloud) for faster evaluation \n",
    "\n",
    "This model could be deployed to its own cloud service that would run on a periodic schedule for the players in the system, identifying players with high probability of churn. Another model should be triggered to propose suitable actions according to the player characteristics/features. \n",
    "\n",
    "It should also be noted that on large scale. Some of the parts in this pipeline might change, with more data after a certain threshold the data won't fit into memory of a single server anymore and the following must be considered: \n",
    "\n",
    "- Feature engineering could be done on the database level, or using big data techniques \n",
    "- Batch training is still used but the batches could be loaded through a data pipe dynamically in each iteration instead of loading the whole dataset in the memory at the start. \n",
    "- The genetic algorithms hyperparameters tuning should be done in parallel by allocating models within the same generation to different servers. "
   ]
  }
 ],
 "metadata": {
  "kernelspec": {
   "display_name": "Python 3",
   "language": "python",
   "name": "python3"
  },
  "language_info": {
   "codemirror_mode": {
    "name": "ipython",
    "version": 3
   },
   "file_extension": ".py",
   "mimetype": "text/x-python",
   "name": "python",
   "nbconvert_exporter": "python",
   "pygments_lexer": "ipython3",
   "version": "3.7.4"
  }
 },
 "nbformat": 4,
 "nbformat_minor": 4
}
